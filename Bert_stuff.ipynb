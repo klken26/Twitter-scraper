{
 "cells": [
  {
   "cell_type": "code",
   "execution_count": 1,
   "id": "f95d9e52",
   "metadata": {},
   "outputs": [
    {
     "name": "stderr",
     "output_type": "stream",
     "text": [
      "No model was supplied, defaulted to roberta-large-mnli (https://huggingface.co/roberta-large-mnli)\n"
     ]
    },
    {
     "data": {
      "application/vnd.jupyter.widget-view+json": {
       "model_id": "e80a826d38f544de9b8d84b50ea26dc8",
       "version_major": 2,
       "version_minor": 0
      },
      "text/plain": [
       "Downloading:   0%|          | 0.00/688 [00:00<?, ?B/s]"
      ]
     },
     "metadata": {},
     "output_type": "display_data"
    },
    {
     "data": {
      "application/vnd.jupyter.widget-view+json": {
       "model_id": "c7b9361579cd43c3bf49755d72b2fb99",
       "version_major": 2,
       "version_minor": 0
      },
      "text/plain": [
       "Downloading:   0%|          | 0.00/1.33G [00:00<?, ?B/s]"
      ]
     },
     "metadata": {},
     "output_type": "display_data"
    },
    {
     "name": "stderr",
     "output_type": "stream",
     "text": [
      "All model checkpoint layers were used when initializing TFRobertaForSequenceClassification.\n",
      "\n",
      "All the layers of TFRobertaForSequenceClassification were initialized from the model checkpoint at roberta-large-mnli.\n",
      "If your task is similar to the task the model of the checkpoint was trained on, you can already use TFRobertaForSequenceClassification for predictions without further training.\n"
     ]
    },
    {
     "data": {
      "application/vnd.jupyter.widget-view+json": {
       "model_id": "145164a5a2d74447990265df4f346f99",
       "version_major": 2,
       "version_minor": 0
      },
      "text/plain": [
       "Downloading:   0%|          | 0.00/878k [00:00<?, ?B/s]"
      ]
     },
     "metadata": {},
     "output_type": "display_data"
    },
    {
     "data": {
      "application/vnd.jupyter.widget-view+json": {
       "model_id": "c5be36eda80e4b16ace8e60107a9cca9",
       "version_major": 2,
       "version_minor": 0
      },
      "text/plain": [
       "Downloading:   0%|          | 0.00/446k [00:00<?, ?B/s]"
      ]
     },
     "metadata": {},
     "output_type": "display_data"
    },
    {
     "data": {
      "application/vnd.jupyter.widget-view+json": {
       "model_id": "58db6c2de17e4d12b0b4e43a7d770253",
       "version_major": 2,
       "version_minor": 0
      },
      "text/plain": [
       "Downloading:   0%|          | 0.00/1.29M [00:00<?, ?B/s]"
      ]
     },
     "metadata": {},
     "output_type": "display_data"
    },
    {
     "name": "stdout",
     "output_type": "stream",
     "text": [
      "SUTD is the best University!!\n",
      "education\n",
      "\n",
      "\n",
      "I love DAI :)\n",
      "design\n",
      "\n",
      "\n",
      "AI Applications in Design is the most interesting course I have ever taken... ever!\n",
      "education\n",
      "\n",
      "\n"
     ]
    }
   ],
   "source": [
    "#zero-shot-classification \n",
    "from transformers import pipeline\n",
    "\n",
    "text = [\"SUTD is the best University!!\",\n",
    "        \"I love DAI :)\",\n",
    "        \"AI Applications in Design is the most interesting course I have ever taken... ever!\"]\n",
    "\n",
    "candidates = [\"education\", \"design\", \"politics\"]    # replace the candidates to suit your needs\n",
    "\n",
    "classifier = pipeline(\"zero-shot-classification\")\n",
    "\n",
    "results = classifier(text, candidate_labels=candidates)\n",
    "\n",
    "for i in range(len(results)):\n",
    "    print(results[i]['sequence'])\n",
    "    max_value = max(results[i]['scores'])                     # identify the max value in the entire list\n",
    "    max_index = results[i]['scores'].index(max_value)         # identify the list index with max value\n",
    "    print(results[i]['labels'][max_index])\n",
    "    print(\"\\n\")\n",
    "\n"
   ]
  },
  {
   "cell_type": "code",
   "execution_count": null,
   "id": "61cc07fe",
   "metadata": {},
   "outputs": [],
   "source": [
    "#sentiment analysis\n",
    "from transformers import pipeline\n",
    "\n",
    "text = [\"SUTD is the best University!!\",\n",
    "        \"I love DAI :)\",\n",
    "        \"AI Applications in Design is the most interesting course I have ever taken... ever!\"]\n",
    "\n",
    "classifier = pipeline(\"sentiment-analysis\")\n",
    "\n",
    "results = classifier(text)\n",
    "\n",
    "for i in range(len(results)):\n",
    "    print(text[i])\n",
    "    print(results[i])\n",
    "    print(results[i]['label'])\n",
    "    print(\"\\n\")\n"
   ]
  }
 ],
 "metadata": {
  "kernelspec": {
   "display_name": "Python 3 (ipykernel)",
   "language": "python",
   "name": "python3"
  },
  "language_info": {
   "codemirror_mode": {
    "name": "ipython",
    "version": 3
   },
   "file_extension": ".py",
   "mimetype": "text/x-python",
   "name": "python",
   "nbconvert_exporter": "python",
   "pygments_lexer": "ipython3",
   "version": "3.8.11"
  }
 },
 "nbformat": 4,
 "nbformat_minor": 5
}
